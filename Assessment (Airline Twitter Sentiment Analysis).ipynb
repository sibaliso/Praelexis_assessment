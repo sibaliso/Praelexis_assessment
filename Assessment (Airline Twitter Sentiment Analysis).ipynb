{
 "cells": [
  {
   "cell_type": "markdown",
   "metadata": {},
   "source": [
    "## Problem definition\n",
    "\n",
    "Analyse how airline passagers of 6 US airlines expressed their satisfaction on the airlines' services on Twitter, i.e. whether the passengers' sentiments were positive, negative or neutral. \n"
   ]
  },
  {
   "cell_type": "code",
   "execution_count": 1,
   "metadata": {},
   "outputs": [
    {
     "name": "stdout",
     "output_type": "stream",
     "text": [
      "Requirement already satisfied: numpy in /home/sibaliso/notebook/jupyterenv/lib/python3.7/site-packages (1.21.6)\n",
      "Requirement already satisfied: pandas in /home/sibaliso/notebook/jupyterenv/lib/python3.7/site-packages (1.3.5)\n",
      "Requirement already satisfied: pytz>=2017.3 in /home/sibaliso/notebook/jupyterenv/lib/python3.7/site-packages (from pandas) (2022.2.1)\n",
      "Requirement already satisfied: numpy>=1.17.3 in /home/sibaliso/notebook/jupyterenv/lib/python3.7/site-packages (from pandas) (1.21.6)\n",
      "Requirement already satisfied: python-dateutil>=2.7.3 in /home/sibaliso/notebook/jupyterenv/lib/python3.7/site-packages (from pandas) (2.8.2)\n",
      "Requirement already satisfied: six>=1.5 in /home/sibaliso/notebook/jupyterenv/lib/python3.7/site-packages (from python-dateutil>=2.7.3->pandas) (1.16.0)\n",
      "Requirement already satisfied: sklearn in /home/sibaliso/notebook/jupyterenv/lib/python3.7/site-packages (0.0)\n",
      "Requirement already satisfied: scikit-learn in /home/sibaliso/notebook/jupyterenv/lib/python3.7/site-packages (from sklearn) (1.0.2)\n",
      "Requirement already satisfied: threadpoolctl>=2.0.0 in /home/sibaliso/notebook/jupyterenv/lib/python3.7/site-packages (from scikit-learn->sklearn) (3.1.0)\n",
      "Requirement already satisfied: scipy>=1.1.0 in /home/sibaliso/notebook/jupyterenv/lib/python3.7/site-packages (from scikit-learn->sklearn) (1.7.3)\n",
      "Requirement already satisfied: numpy>=1.14.6 in /home/sibaliso/notebook/jupyterenv/lib/python3.7/site-packages (from scikit-learn->sklearn) (1.21.6)\n",
      "Requirement already satisfied: joblib>=0.11 in /home/sibaliso/notebook/jupyterenv/lib/python3.7/site-packages (from scikit-learn->sklearn) (1.2.0)\n",
      "Requirement already satisfied: matplotlib in /home/sibaliso/notebook/jupyterenv/lib/python3.7/site-packages (3.5.3)\n",
      "Requirement already satisfied: pillow>=6.2.0 in /home/sibaliso/notebook/jupyterenv/lib/python3.7/site-packages (from matplotlib) (9.2.0)\n",
      "Requirement already satisfied: python-dateutil>=2.7 in /home/sibaliso/notebook/jupyterenv/lib/python3.7/site-packages (from matplotlib) (2.8.2)\n",
      "Requirement already satisfied: numpy>=1.17 in /home/sibaliso/notebook/jupyterenv/lib/python3.7/site-packages (from matplotlib) (1.21.6)\n",
      "Requirement already satisfied: fonttools>=4.22.0 in /home/sibaliso/notebook/jupyterenv/lib/python3.7/site-packages (from matplotlib) (4.37.3)\n",
      "Requirement already satisfied: packaging>=20.0 in /home/sibaliso/notebook/jupyterenv/lib/python3.7/site-packages (from matplotlib) (21.3)\n",
      "Requirement already satisfied: kiwisolver>=1.0.1 in /home/sibaliso/notebook/jupyterenv/lib/python3.7/site-packages (from matplotlib) (1.4.4)\n",
      "Requirement already satisfied: cycler>=0.10 in /home/sibaliso/notebook/jupyterenv/lib/python3.7/site-packages (from matplotlib) (0.11.0)\n",
      "Requirement already satisfied: pyparsing>=2.2.1 in /home/sibaliso/notebook/jupyterenv/lib/python3.7/site-packages (from matplotlib) (3.0.9)\n",
      "Requirement already satisfied: typing-extensions in /home/sibaliso/notebook/jupyterenv/lib/python3.7/site-packages (from kiwisolver>=1.0.1->matplotlib) (4.3.0)\n",
      "Requirement already satisfied: six>=1.5 in /home/sibaliso/notebook/jupyterenv/lib/python3.7/site-packages (from python-dateutil>=2.7->matplotlib) (1.16.0)\n",
      "Requirement already satisfied: textblob in /home/sibaliso/notebook/jupyterenv/lib/python3.7/site-packages (0.17.1)\n",
      "Requirement already satisfied: nltk>=3.1 in /home/sibaliso/notebook/jupyterenv/lib/python3.7/site-packages (from textblob) (3.7)\n",
      "Requirement already satisfied: joblib in /home/sibaliso/notebook/jupyterenv/lib/python3.7/site-packages (from nltk>=3.1->textblob) (1.2.0)\n",
      "Requirement already satisfied: tqdm in /home/sibaliso/notebook/jupyterenv/lib/python3.7/site-packages (from nltk>=3.1->textblob) (4.64.1)\n",
      "Requirement already satisfied: regex>=2021.8.3 in /home/sibaliso/notebook/jupyterenv/lib/python3.7/site-packages (from nltk>=3.1->textblob) (2022.9.13)\n",
      "Requirement already satisfied: click in /home/sibaliso/notebook/jupyterenv/lib/python3.7/site-packages (from nltk>=3.1->textblob) (8.1.3)\n",
      "Requirement already satisfied: importlib-metadata in /home/sibaliso/notebook/jupyterenv/lib/python3.7/site-packages (from click->nltk>=3.1->textblob) (4.12.0)\n",
      "Requirement already satisfied: zipp>=0.5 in /home/sibaliso/notebook/jupyterenv/lib/python3.7/site-packages (from importlib-metadata->click->nltk>=3.1->textblob) (3.8.1)\n",
      "Requirement already satisfied: typing-extensions>=3.6.4 in /home/sibaliso/notebook/jupyterenv/lib/python3.7/site-packages (from importlib-metadata->click->nltk>=3.1->textblob) (4.3.0)\n",
      "Collecting git+https://github.com/pymc-learn/pymc-learn\n",
      "  Cloning https://github.com/pymc-learn/pymc-learn to /tmp/pip-req-build-9igpzx70\n",
      "  Running command git clone --filter=blob:none --quiet https://github.com/pymc-learn/pymc-learn /tmp/pip-req-build-9igpzx70\n",
      "  Resolved https://github.com/pymc-learn/pymc-learn to commit 4f1ee680f0e71dd14e0308552b66b14fb18f82af\n",
      "  Preparing metadata (setup.py) ... \u001b[?25ldone\n",
      "\u001b[?25hRequirement already satisfied: future>=0.16.0 in /home/sibaliso/notebook/jupyterenv/lib/python3.7/site-packages (from pymc-learn==0.0.1rc3) (0.18.2)\n",
      "Requirement already satisfied: joblib>=0.11 in /home/sibaliso/notebook/jupyterenv/lib/python3.7/site-packages (from pymc-learn==0.0.1rc3) (1.2.0)\n",
      "Requirement already satisfied: matplotlib>=2.1.1 in /home/sibaliso/notebook/jupyterenv/lib/python3.7/site-packages (from pymc-learn==0.0.1rc3) (3.5.3)\n",
      "Requirement already satisfied: numpy>=1.13.1 in /home/sibaliso/notebook/jupyterenv/lib/python3.7/site-packages (from pymc-learn==0.0.1rc3) (1.21.6)\n",
      "Requirement already satisfied: numpydoc>=0.7.0 in /home/sibaliso/notebook/jupyterenv/lib/python3.7/site-packages (from pymc-learn==0.0.1rc3) (1.4.0)\n",
      "Requirement already satisfied: pandas>=0.21.1 in /home/sibaliso/notebook/jupyterenv/lib/python3.7/site-packages (from pymc-learn==0.0.1rc3) (1.3.5)\n",
      "Requirement already satisfied: pymc3==3.4.1 in /home/sibaliso/notebook/jupyterenv/lib/python3.7/site-packages (from pymc-learn==0.0.1rc3) (3.4.1)\n",
      "Requirement already satisfied: scikit-learn>=0.19.1 in /home/sibaliso/notebook/jupyterenv/lib/python3.7/site-packages (from pymc-learn==0.0.1rc3) (1.0.2)\n",
      "Requirement already satisfied: scipy>=1.0.0 in /home/sibaliso/notebook/jupyterenv/lib/python3.7/site-packages (from pymc-learn==0.0.1rc3) (1.7.3)\n",
      "Requirement already satisfied: seaborn>=0.8.1 in /home/sibaliso/notebook/jupyterenv/lib/python3.7/site-packages (from pymc-learn==0.0.1rc3) (0.12.0)\n",
      "Requirement already satisfied: six>=1.10.0 in /home/sibaliso/notebook/jupyterenv/lib/python3.7/site-packages (from pymc-learn==0.0.1rc3) (1.16.0)\n",
      "Requirement already satisfied: theano>=1.0.4 in /home/sibaliso/notebook/jupyterenv/lib/python3.7/site-packages (from pymc-learn==0.0.1rc3) (1.0.5)\n",
      "Requirement already satisfied: tqdm>=4.8.4 in /home/sibaliso/notebook/jupyterenv/lib/python3.7/site-packages (from pymc-learn==0.0.1rc3) (4.64.1)\n",
      "Requirement already satisfied: patsy>=0.4.0 in /home/sibaliso/notebook/jupyterenv/lib/python3.7/site-packages (from pymc3==3.4.1->pymc-learn==0.0.1rc3) (0.5.2)\n",
      "Requirement already satisfied: h5py>=2.7.0 in /home/sibaliso/notebook/jupyterenv/lib/python3.7/site-packages (from pymc3==3.4.1->pymc-learn==0.0.1rc3) (3.7.0)\n",
      "Requirement already satisfied: packaging>=20.0 in /home/sibaliso/notebook/jupyterenv/lib/python3.7/site-packages (from matplotlib>=2.1.1->pymc-learn==0.0.1rc3) (21.3)\n",
      "Requirement already satisfied: fonttools>=4.22.0 in /home/sibaliso/notebook/jupyterenv/lib/python3.7/site-packages (from matplotlib>=2.1.1->pymc-learn==0.0.1rc3) (4.37.3)\n",
      "Requirement already satisfied: pyparsing>=2.2.1 in /home/sibaliso/notebook/jupyterenv/lib/python3.7/site-packages (from matplotlib>=2.1.1->pymc-learn==0.0.1rc3) (3.0.9)\n",
      "Requirement already satisfied: kiwisolver>=1.0.1 in /home/sibaliso/notebook/jupyterenv/lib/python3.7/site-packages (from matplotlib>=2.1.1->pymc-learn==0.0.1rc3) (1.4.4)\n",
      "Requirement already satisfied: cycler>=0.10 in /home/sibaliso/notebook/jupyterenv/lib/python3.7/site-packages (from matplotlib>=2.1.1->pymc-learn==0.0.1rc3) (0.11.0)\n",
      "Requirement already satisfied: python-dateutil>=2.7 in /home/sibaliso/notebook/jupyterenv/lib/python3.7/site-packages (from matplotlib>=2.1.1->pymc-learn==0.0.1rc3) (2.8.2)\n",
      "Requirement already satisfied: pillow>=6.2.0 in /home/sibaliso/notebook/jupyterenv/lib/python3.7/site-packages (from matplotlib>=2.1.1->pymc-learn==0.0.1rc3) (9.2.0)\n"
     ]
    },
    {
     "name": "stdout",
     "output_type": "stream",
     "text": [
      "Requirement already satisfied: sphinx>=3.0 in /home/sibaliso/notebook/jupyterenv/lib/python3.7/site-packages (from numpydoc>=0.7.0->pymc-learn==0.0.1rc3) (5.1.1)\n",
      "Requirement already satisfied: Jinja2>=2.10 in /home/sibaliso/notebook/jupyterenv/lib/python3.7/site-packages (from numpydoc>=0.7.0->pymc-learn==0.0.1rc3) (3.1.2)\n",
      "Requirement already satisfied: pytz>=2017.3 in /home/sibaliso/notebook/jupyterenv/lib/python3.7/site-packages (from pandas>=0.21.1->pymc-learn==0.0.1rc3) (2022.2.1)\n",
      "Requirement already satisfied: threadpoolctl>=2.0.0 in /home/sibaliso/notebook/jupyterenv/lib/python3.7/site-packages (from scikit-learn>=0.19.1->pymc-learn==0.0.1rc3) (3.1.0)\n",
      "Requirement already satisfied: typing_extensions in /home/sibaliso/notebook/jupyterenv/lib/python3.7/site-packages (from seaborn>=0.8.1->pymc-learn==0.0.1rc3) (4.3.0)\n",
      "Requirement already satisfied: MarkupSafe>=2.0 in /home/sibaliso/notebook/jupyterenv/lib/python3.7/site-packages (from Jinja2>=2.10->numpydoc>=0.7.0->pymc-learn==0.0.1rc3) (2.1.1)\n",
      "Requirement already satisfied: Pygments>=2.0 in /home/sibaliso/notebook/jupyterenv/lib/python3.7/site-packages (from sphinx>=3.0->numpydoc>=0.7.0->pymc-learn==0.0.1rc3) (2.13.0)\n",
      "Requirement already satisfied: sphinxcontrib-applehelp in /home/sibaliso/notebook/jupyterenv/lib/python3.7/site-packages (from sphinx>=3.0->numpydoc>=0.7.0->pymc-learn==0.0.1rc3) (1.0.2)\n",
      "Requirement already satisfied: babel>=1.3 in /home/sibaliso/notebook/jupyterenv/lib/python3.7/site-packages (from sphinx>=3.0->numpydoc>=0.7.0->pymc-learn==0.0.1rc3) (2.10.3)\n",
      "Requirement already satisfied: sphinxcontrib-devhelp in /home/sibaliso/notebook/jupyterenv/lib/python3.7/site-packages (from sphinx>=3.0->numpydoc>=0.7.0->pymc-learn==0.0.1rc3) (1.0.2)\n",
      "Requirement already satisfied: snowballstemmer>=1.1 in /home/sibaliso/notebook/jupyterenv/lib/python3.7/site-packages (from sphinx>=3.0->numpydoc>=0.7.0->pymc-learn==0.0.1rc3) (2.2.0)\n",
      "Requirement already satisfied: sphinxcontrib-qthelp in /home/sibaliso/notebook/jupyterenv/lib/python3.7/site-packages (from sphinx>=3.0->numpydoc>=0.7.0->pymc-learn==0.0.1rc3) (1.0.3)\n",
      "Requirement already satisfied: imagesize in /home/sibaliso/notebook/jupyterenv/lib/python3.7/site-packages (from sphinx>=3.0->numpydoc>=0.7.0->pymc-learn==0.0.1rc3) (1.4.1)\n",
      "Requirement already satisfied: docutils<0.20,>=0.14 in /home/sibaliso/notebook/jupyterenv/lib/python3.7/site-packages (from sphinx>=3.0->numpydoc>=0.7.0->pymc-learn==0.0.1rc3) (0.19)\n",
      "Requirement already satisfied: importlib-metadata>=4.4 in /home/sibaliso/notebook/jupyterenv/lib/python3.7/site-packages (from sphinx>=3.0->numpydoc>=0.7.0->pymc-learn==0.0.1rc3) (4.12.0)\n",
      "Requirement already satisfied: alabaster<0.8,>=0.7 in /home/sibaliso/notebook/jupyterenv/lib/python3.7/site-packages (from sphinx>=3.0->numpydoc>=0.7.0->pymc-learn==0.0.1rc3) (0.7.12)\n",
      "Requirement already satisfied: requests>=2.5.0 in /home/sibaliso/notebook/jupyterenv/lib/python3.7/site-packages (from sphinx>=3.0->numpydoc>=0.7.0->pymc-learn==0.0.1rc3) (2.28.1)\n",
      "Requirement already satisfied: sphinxcontrib-serializinghtml>=1.1.5 in /home/sibaliso/notebook/jupyterenv/lib/python3.7/site-packages (from sphinx>=3.0->numpydoc>=0.7.0->pymc-learn==0.0.1rc3) (1.1.5)\n",
      "Requirement already satisfied: sphinxcontrib-htmlhelp>=2.0.0 in /home/sibaliso/notebook/jupyterenv/lib/python3.7/site-packages (from sphinx>=3.0->numpydoc>=0.7.0->pymc-learn==0.0.1rc3) (2.0.0)\n",
      "Requirement already satisfied: sphinxcontrib-jsmath in /home/sibaliso/notebook/jupyterenv/lib/python3.7/site-packages (from sphinx>=3.0->numpydoc>=0.7.0->pymc-learn==0.0.1rc3) (1.0.1)\n",
      "Requirement already satisfied: zipp>=0.5 in /home/sibaliso/notebook/jupyterenv/lib/python3.7/site-packages (from importlib-metadata>=4.4->sphinx>=3.0->numpydoc>=0.7.0->pymc-learn==0.0.1rc3) (3.8.1)\n",
      "Requirement already satisfied: idna<4,>=2.5 in /home/sibaliso/notebook/jupyterenv/lib/python3.7/site-packages (from requests>=2.5.0->sphinx>=3.0->numpydoc>=0.7.0->pymc-learn==0.0.1rc3) (3.4)\n",
      "Requirement already satisfied: urllib3<1.27,>=1.21.1 in /home/sibaliso/notebook/jupyterenv/lib/python3.7/site-packages (from requests>=2.5.0->sphinx>=3.0->numpydoc>=0.7.0->pymc-learn==0.0.1rc3) (1.26.12)\n",
      "Requirement already satisfied: charset-normalizer<3,>=2 in /home/sibaliso/notebook/jupyterenv/lib/python3.7/site-packages (from requests>=2.5.0->sphinx>=3.0->numpydoc>=0.7.0->pymc-learn==0.0.1rc3) (2.1.1)\n",
      "Requirement already satisfied: certifi>=2017.4.17 in /home/sibaliso/notebook/jupyterenv/lib/python3.7/site-packages (from requests>=2.5.0->sphinx>=3.0->numpydoc>=0.7.0->pymc-learn==0.0.1rc3) (2022.9.14)\n"
     ]
    }
   ],
   "source": [
    "!pip install numpy\n",
    "!pip install pandas \n",
    "!pip install sklearn\n",
    "!pip install matplotlib\n",
    "!pip install textblob\n",
    "!pip install git+https://github.com/pymc-learn/pymc-learn\n"
   ]
  },
  {
   "cell_type": "markdown",
   "metadata": {},
   "source": [
    "## Import the necessary packages"
   ]
  },
  {
   "cell_type": "code",
   "execution_count": 2,
   "metadata": {},
   "outputs": [],
   "source": [
    "import numpy as np\n",
    "import pandas as pd\n",
    "pd.options.display.max_colwidth = 1000\n",
    "\n",
    "import re\n",
    "from textblob import TextBlob\n",
    "from nltk.tokenize.toktok import ToktokTokenizer\n",
    "import string\n",
    "import nltk\n",
    "from nltk.corpus import stopwords\n",
    "\n",
    "import seaborn as sn\n",
    "\n",
    "import sklearn\n",
    "from sklearn.metrics import confusion_matrix, accuracy_score, classification_report\n",
    "from sklearn.feature_extraction.text import TfidfVectorizer\n",
    "from sklearn.model_selection import train_test_split\n",
    "\n",
    "from sklearn.ensemble import RandomForestClassifier\n",
    "\n",
    "import matplotlib.pyplot as plt\n",
    "%matplotlib inline\n",
    "\n",
    "#import os\n",
    "#os.environ['MKL_THREADING_LAYER'] = 'GNU'\n",
    "#os.environ['THEANO_FLAGS'] = 'device=cpu'\n",
    "#import pymc3 as pm\n",
    "#import seaborn as sns\n",
    "\n",
    "#from IPython.core.interactiveshell import InteractiveShell\n",
    "#InteractiveShell.ast_node_interactivity = \"all\""
   ]
  },
  {
   "cell_type": "markdown",
   "metadata": {},
   "source": [
    "## Load the data set as a dataframe\n"
   ]
  },
  {
   "cell_type": "code",
   "execution_count": 3,
   "metadata": {},
   "outputs": [
    {
     "data": {
      "text/html": [
       "<div>\n",
       "<style scoped>\n",
       "    .dataframe tbody tr th:only-of-type {\n",
       "        vertical-align: middle;\n",
       "    }\n",
       "\n",
       "    .dataframe tbody tr th {\n",
       "        vertical-align: top;\n",
       "    }\n",
       "\n",
       "    .dataframe thead th {\n",
       "        text-align: right;\n",
       "    }\n",
       "</style>\n",
       "<table border=\"1\" class=\"dataframe\">\n",
       "  <thead>\n",
       "    <tr style=\"text-align: right;\">\n",
       "      <th></th>\n",
       "      <th>tweet_id</th>\n",
       "      <th>airline_sentiment</th>\n",
       "      <th>airline_sentiment_confidence</th>\n",
       "      <th>negativereason</th>\n",
       "      <th>negativereason_confidence</th>\n",
       "      <th>airline</th>\n",
       "      <th>airline_sentiment_gold</th>\n",
       "      <th>name</th>\n",
       "      <th>negativereason_gold</th>\n",
       "      <th>retweet_count</th>\n",
       "      <th>text</th>\n",
       "      <th>tweet_coord</th>\n",
       "      <th>tweet_created</th>\n",
       "      <th>tweet_location</th>\n",
       "      <th>user_timezone</th>\n",
       "    </tr>\n",
       "  </thead>\n",
       "  <tbody>\n",
       "    <tr>\n",
       "      <th>0</th>\n",
       "      <td>570306133677760513</td>\n",
       "      <td>neutral</td>\n",
       "      <td>1.0000</td>\n",
       "      <td>NaN</td>\n",
       "      <td>NaN</td>\n",
       "      <td>Virgin America</td>\n",
       "      <td>NaN</td>\n",
       "      <td>cairdin</td>\n",
       "      <td>NaN</td>\n",
       "      <td>0</td>\n",
       "      <td>@VirginAmerica What @dhepburn said.</td>\n",
       "      <td>NaN</td>\n",
       "      <td>2015-02-24 11:35:52 -0800</td>\n",
       "      <td>NaN</td>\n",
       "      <td>Eastern Time (US &amp; Canada)</td>\n",
       "    </tr>\n",
       "    <tr>\n",
       "      <th>1</th>\n",
       "      <td>570301130888122368</td>\n",
       "      <td>positive</td>\n",
       "      <td>0.3486</td>\n",
       "      <td>NaN</td>\n",
       "      <td>0.0000</td>\n",
       "      <td>Virgin America</td>\n",
       "      <td>NaN</td>\n",
       "      <td>jnardino</td>\n",
       "      <td>NaN</td>\n",
       "      <td>0</td>\n",
       "      <td>@VirginAmerica plus you've added commercials to the experience... tacky.</td>\n",
       "      <td>NaN</td>\n",
       "      <td>2015-02-24 11:15:59 -0800</td>\n",
       "      <td>NaN</td>\n",
       "      <td>Pacific Time (US &amp; Canada)</td>\n",
       "    </tr>\n",
       "    <tr>\n",
       "      <th>2</th>\n",
       "      <td>570301083672813571</td>\n",
       "      <td>neutral</td>\n",
       "      <td>0.6837</td>\n",
       "      <td>NaN</td>\n",
       "      <td>NaN</td>\n",
       "      <td>Virgin America</td>\n",
       "      <td>NaN</td>\n",
       "      <td>yvonnalynn</td>\n",
       "      <td>NaN</td>\n",
       "      <td>0</td>\n",
       "      <td>@VirginAmerica I didn't today... Must mean I need to take another trip!</td>\n",
       "      <td>NaN</td>\n",
       "      <td>2015-02-24 11:15:48 -0800</td>\n",
       "      <td>Lets Play</td>\n",
       "      <td>Central Time (US &amp; Canada)</td>\n",
       "    </tr>\n",
       "    <tr>\n",
       "      <th>3</th>\n",
       "      <td>570301031407624196</td>\n",
       "      <td>negative</td>\n",
       "      <td>1.0000</td>\n",
       "      <td>Bad Flight</td>\n",
       "      <td>0.7033</td>\n",
       "      <td>Virgin America</td>\n",
       "      <td>NaN</td>\n",
       "      <td>jnardino</td>\n",
       "      <td>NaN</td>\n",
       "      <td>0</td>\n",
       "      <td>@VirginAmerica it's really aggressive to blast obnoxious \"entertainment\" in your guests' faces &amp;amp; they have little recourse</td>\n",
       "      <td>NaN</td>\n",
       "      <td>2015-02-24 11:15:36 -0800</td>\n",
       "      <td>NaN</td>\n",
       "      <td>Pacific Time (US &amp; Canada)</td>\n",
       "    </tr>\n",
       "    <tr>\n",
       "      <th>4</th>\n",
       "      <td>570300817074462722</td>\n",
       "      <td>negative</td>\n",
       "      <td>1.0000</td>\n",
       "      <td>Can't Tell</td>\n",
       "      <td>1.0000</td>\n",
       "      <td>Virgin America</td>\n",
       "      <td>NaN</td>\n",
       "      <td>jnardino</td>\n",
       "      <td>NaN</td>\n",
       "      <td>0</td>\n",
       "      <td>@VirginAmerica and it's a really big bad thing about it</td>\n",
       "      <td>NaN</td>\n",
       "      <td>2015-02-24 11:14:45 -0800</td>\n",
       "      <td>NaN</td>\n",
       "      <td>Pacific Time (US &amp; Canada)</td>\n",
       "    </tr>\n",
       "  </tbody>\n",
       "</table>\n",
       "</div>"
      ],
      "text/plain": [
       "             tweet_id airline_sentiment  airline_sentiment_confidence  \\\n",
       "0  570306133677760513           neutral                        1.0000   \n",
       "1  570301130888122368          positive                        0.3486   \n",
       "2  570301083672813571           neutral                        0.6837   \n",
       "3  570301031407624196          negative                        1.0000   \n",
       "4  570300817074462722          negative                        1.0000   \n",
       "\n",
       "  negativereason  negativereason_confidence         airline  \\\n",
       "0            NaN                        NaN  Virgin America   \n",
       "1            NaN                     0.0000  Virgin America   \n",
       "2            NaN                        NaN  Virgin America   \n",
       "3     Bad Flight                     0.7033  Virgin America   \n",
       "4     Can't Tell                     1.0000  Virgin America   \n",
       "\n",
       "  airline_sentiment_gold        name negativereason_gold  retweet_count  \\\n",
       "0                    NaN     cairdin                 NaN              0   \n",
       "1                    NaN    jnardino                 NaN              0   \n",
       "2                    NaN  yvonnalynn                 NaN              0   \n",
       "3                    NaN    jnardino                 NaN              0   \n",
       "4                    NaN    jnardino                 NaN              0   \n",
       "\n",
       "                                                                                                                             text  \\\n",
       "0                                                                                             @VirginAmerica What @dhepburn said.   \n",
       "1                                                        @VirginAmerica plus you've added commercials to the experience... tacky.   \n",
       "2                                                         @VirginAmerica I didn't today... Must mean I need to take another trip!   \n",
       "3  @VirginAmerica it's really aggressive to blast obnoxious \"entertainment\" in your guests' faces &amp; they have little recourse   \n",
       "4                                                                         @VirginAmerica and it's a really big bad thing about it   \n",
       "\n",
       "  tweet_coord              tweet_created tweet_location  \\\n",
       "0         NaN  2015-02-24 11:35:52 -0800            NaN   \n",
       "1         NaN  2015-02-24 11:15:59 -0800            NaN   \n",
       "2         NaN  2015-02-24 11:15:48 -0800      Lets Play   \n",
       "3         NaN  2015-02-24 11:15:36 -0800            NaN   \n",
       "4         NaN  2015-02-24 11:14:45 -0800            NaN   \n",
       "\n",
       "                user_timezone  \n",
       "0  Eastern Time (US & Canada)  \n",
       "1  Pacific Time (US & Canada)  \n",
       "2  Central Time (US & Canada)  \n",
       "3  Pacific Time (US & Canada)  \n",
       "4  Pacific Time (US & Canada)  "
      ]
     },
     "execution_count": 3,
     "metadata": {},
     "output_type": "execute_result"
    }
   ],
   "source": [
    "df_data = pd.read_csv('Tweets.csv')\n",
    "df_data.head()"
   ]
  },
  {
   "cell_type": "code",
   "execution_count": 4,
   "metadata": {},
   "outputs": [
    {
     "data": {
      "text/plain": [
       "(14640, 15)"
      ]
     },
     "execution_count": 4,
     "metadata": {},
     "output_type": "execute_result"
    }
   ],
   "source": [
    "df_data.shape"
   ]
  },
  {
   "cell_type": "markdown",
   "metadata": {},
   "source": [
    "## Checking missing values in the data set"
   ]
  },
  {
   "cell_type": "code",
   "execution_count": 5,
   "metadata": {},
   "outputs": [
    {
     "data": {
      "text/html": [
       "<div>\n",
       "<style scoped>\n",
       "    .dataframe tbody tr th:only-of-type {\n",
       "        vertical-align: middle;\n",
       "    }\n",
       "\n",
       "    .dataframe tbody tr th {\n",
       "        vertical-align: top;\n",
       "    }\n",
       "\n",
       "    .dataframe thead th {\n",
       "        text-align: right;\n",
       "    }\n",
       "</style>\n",
       "<table border=\"1\" class=\"dataframe\">\n",
       "  <thead>\n",
       "    <tr style=\"text-align: right;\">\n",
       "      <th></th>\n",
       "      <th>Count</th>\n",
       "      <th>Percentage</th>\n",
       "    </tr>\n",
       "  </thead>\n",
       "  <tbody>\n",
       "    <tr>\n",
       "      <th>negativereason_gold</th>\n",
       "      <td>14608</td>\n",
       "      <td>99.781421</td>\n",
       "    </tr>\n",
       "    <tr>\n",
       "      <th>airline_sentiment_gold</th>\n",
       "      <td>14600</td>\n",
       "      <td>99.726776</td>\n",
       "    </tr>\n",
       "    <tr>\n",
       "      <th>tweet_coord</th>\n",
       "      <td>13621</td>\n",
       "      <td>93.039617</td>\n",
       "    </tr>\n",
       "    <tr>\n",
       "      <th>negativereason</th>\n",
       "      <td>5462</td>\n",
       "      <td>37.308743</td>\n",
       "    </tr>\n",
       "    <tr>\n",
       "      <th>user_timezone</th>\n",
       "      <td>4820</td>\n",
       "      <td>32.923497</td>\n",
       "    </tr>\n",
       "    <tr>\n",
       "      <th>tweet_location</th>\n",
       "      <td>4733</td>\n",
       "      <td>32.329235</td>\n",
       "    </tr>\n",
       "    <tr>\n",
       "      <th>negativereason_confidence</th>\n",
       "      <td>4118</td>\n",
       "      <td>28.128415</td>\n",
       "    </tr>\n",
       "    <tr>\n",
       "      <th>tweet_id</th>\n",
       "      <td>0</td>\n",
       "      <td>0.000000</td>\n",
       "    </tr>\n",
       "    <tr>\n",
       "      <th>airline_sentiment</th>\n",
       "      <td>0</td>\n",
       "      <td>0.000000</td>\n",
       "    </tr>\n",
       "    <tr>\n",
       "      <th>airline_sentiment_confidence</th>\n",
       "      <td>0</td>\n",
       "      <td>0.000000</td>\n",
       "    </tr>\n",
       "    <tr>\n",
       "      <th>airline</th>\n",
       "      <td>0</td>\n",
       "      <td>0.000000</td>\n",
       "    </tr>\n",
       "    <tr>\n",
       "      <th>name</th>\n",
       "      <td>0</td>\n",
       "      <td>0.000000</td>\n",
       "    </tr>\n",
       "    <tr>\n",
       "      <th>retweet_count</th>\n",
       "      <td>0</td>\n",
       "      <td>0.000000</td>\n",
       "    </tr>\n",
       "    <tr>\n",
       "      <th>text</th>\n",
       "      <td>0</td>\n",
       "      <td>0.000000</td>\n",
       "    </tr>\n",
       "    <tr>\n",
       "      <th>tweet_created</th>\n",
       "      <td>0</td>\n",
       "      <td>0.000000</td>\n",
       "    </tr>\n",
       "  </tbody>\n",
       "</table>\n",
       "</div>"
      ],
      "text/plain": [
       "                              Count  Percentage\n",
       "negativereason_gold           14608   99.781421\n",
       "airline_sentiment_gold        14600   99.726776\n",
       "tweet_coord                   13621   93.039617\n",
       "negativereason                 5462   37.308743\n",
       "user_timezone                  4820   32.923497\n",
       "tweet_location                 4733   32.329235\n",
       "negativereason_confidence      4118   28.128415\n",
       "tweet_id                          0    0.000000\n",
       "airline_sentiment                 0    0.000000\n",
       "airline_sentiment_confidence      0    0.000000\n",
       "airline                           0    0.000000\n",
       "name                              0    0.000000\n",
       "retweet_count                     0    0.000000\n",
       "text                              0    0.000000\n",
       "tweet_created                     0    0.000000"
      ]
     },
     "execution_count": 5,
     "metadata": {},
     "output_type": "execute_result"
    }
   ],
   "source": [
    "count = df_data.isnull().sum().sort_values(ascending=False)\n",
    "percentage_missing_values = ((df_data.isnull().sum()/len(df_data) * 100)).sort_values(ascending=False)\n",
    "missing_values = pd.concat([count, percentage_missing_values], axis=1, keys=['Count','Percentage'])\n",
    "missing_values"
   ]
  },
  {
   "cell_type": "markdown",
   "metadata": {},
   "source": [
    "# Data Exploration\n",
    "\n",
    "1. Evaluate the number of tweets for each airline and plot the counts as a pie chart\n",
    "\n",
    "   We see that most of the tweets are for \"United\" airline and least number of tweets are for \"Virgin America\""
   ]
  },
  {
   "cell_type": "code",
   "execution_count": 6,
   "metadata": {},
   "outputs": [
    {
     "data": {
      "text/plain": [
       "<AxesSubplot:ylabel='airline'>"
      ]
     },
     "execution_count": 6,
     "metadata": {},
     "output_type": "execute_result"
    },
    {
     "data": {
      "image/png": "[encoded data removed]",
      "text/plain": [
       "<Figure size 800x600 with 1 Axes>"
      ]
     },
     "metadata": {},
     "output_type": "display_data"
    }
   ],
   "source": [
    "fig = plt.figure(figsize =(8, 6))\n",
    "df_data.airline.value_counts().plot(kind='pie',autopct='%1.0f%%')"
   ]
  },
  {
   "cell_type": "markdown",
   "metadata": {},
   "source": [
    "2. Plot the sentiments to see how they are distributed in the dataset \n",
    "\n",
    "   Here we see that most of the sentiments are negative, i.e. 63% of the sentiments are negative while 16% and 21% are positive and neutral respectively \n",
    "   \n",
    "  "
   ]
  },
  {
   "cell_type": "code",
   "execution_count": 7,
   "metadata": {},
   "outputs": [
    {
     "data": {
      "text/plain": [
       "<AxesSubplot:ylabel='airline_sentiment'>"
      ]
     },
     "execution_count": 7,
     "metadata": {},
     "output_type": "execute_result"
    },
    {
     "data": {
      "image/png": "[encoded data removed]",
      "text/plain": [
       "<Figure size 800x600 with 1 Axes>"
      ]
     },
     "metadata": {},
     "output_type": "display_data"
    }
   ],
   "source": [
    "fig = plt.figure(figsize =(8, 6))\n",
    "df_data.airline_sentiment.value_counts().plot(kind='pie', autopct='%1.0f%%')"
   ]
  },
  {
   "cell_type": "markdown",
   "metadata": {},
   "source": [
    "3. Plot the sentiments per airline\n",
    "   \n",
    "   Here for all the airlines except \"Virgin America\" the negative sentiment is highest"
   ]
  },
  {
   "cell_type": "code",
   "execution_count": 8,
   "metadata": {
    "scrolled": false
   },
   "outputs": [
    {
     "data": {
      "text/plain": [
       "<AxesSubplot:xlabel='airline'>"
      ]
     },
     "execution_count": 8,
     "metadata": {},
     "output_type": "execute_result"
    },
    {
     "data": {
      "image/png": "[encoded data removed]",
      "text/plain": [
       "<Figure size 640x480 with 1 Axes>"
      ]
     },
     "metadata": {},
     "output_type": "display_data"
    }
   ],
   "source": [
    "sentiment_per_airline = df_data.groupby(['airline','airline_sentiment']).airline_sentiment.count().unstack()\n",
    "sentiment_per_airline.plot(kind='bar')"
   ]
  },
  {
   "cell_type": "markdown",
   "metadata": {},
   "source": [
    "4. Lastly we can also plot the 'Airline sentiment confidence'\n",
    "\n",
    "   Here we see that the airline sentiment confidence is higher for the negative sentiments and lowest for the neutral sentiments"
   ]
  },
  {
   "cell_type": "code",
   "execution_count": 9,
   "metadata": {},
   "outputs": [
    {
     "data": {
      "text/plain": [
       "<AxesSubplot:xlabel='airline_sentiment', ylabel='airline_sentiment_confidence'>"
      ]
     },
     "execution_count": 9,
     "metadata": {},
     "output_type": "execute_result"
    },
    {
     "data": {
      "image/png": "[encoded data removed]",
      "text/plain": [
       "<Figure size 640x480 with 1 Axes>"
      ]
     },
     "metadata": {},
     "output_type": "display_data"
    }
   ],
   "source": [
    "sn.barplot(x='airline_sentiment',y='airline_sentiment_confidence', data=df_data)\n"
   ]
  },
  {
   "cell_type": "markdown",
   "metadata": {},
   "source": [
    "### Preprocessing of text data (airline tweets)\n",
    "Here we clean the tweets removing, punctuations, stop words. special characters, numbers,html and url patterns\n",
    "\n"
   ]
  },
  {
   "cell_type": "code",
   "execution_count": 10,
   "metadata": {},
   "outputs": [],
   "source": [
    "#remove punctuation\n",
    "def remove_punctuation(text):\n",
    "    for punctuation in string.punctuation:\n",
    "        text=text.replace(punctuation,'')\n",
    "    return text\n",
    "\n",
    "#apply the function to the function to the features\n",
    "df_data['text'] = df_data['text'].apply(remove_punctuation)\n"
   ]
  },
  {
   "cell_type": "code",
   "execution_count": 11,
   "metadata": {},
   "outputs": [],
   "source": [
    "#remove stopwords\n",
    "stop_words_list = nltk.corpus.stopwords.words('english')\n",
    "\n",
    "tokenizer = ToktokTokenizer()\n",
    "\n",
    "#function to remove the stop words\n",
    "def remove_stopwords(text,is_lower_case=True):\n",
    "    tokens = tokenizer.tokenize(text)\n",
    "    tokens = [token.strip() for token in tokens]\n",
    "    if is_lower_case:\n",
    "        filtered_tokens = [token for token in tokens if token not in stop_words_list]\n",
    "    else:\n",
    "        filtered_tokens = [token for token in tokens if token.lower() not in stop_words_list]\n",
    "    filtered_text = ' '.join(filtered_tokens)\n",
    "    filtered_text.lower()\n",
    "    return filtered_text\n",
    "\n",
    "#apply the function to the features\n",
    "df_data['text'] = df_data['text'].apply(remove_stopwords)\n"
   ]
  },
  {
   "cell_type": "code",
   "execution_count": 12,
   "metadata": {},
   "outputs": [],
   "source": [
    "#remove special characters\n",
    "def remove_special_characters(text):\n",
    "    text = re.sub('[^a-zA-Z0-9\\s]', '',text)\n",
    "    return text\n",
    " #apply the function\n",
    "df_data['text'] = df_data['text'].apply(remove_special_characters)"
   ]
  },
  {
   "cell_type": "code",
   "execution_count": 13,
   "metadata": {
    "scrolled": false
   },
   "outputs": [],
   "source": [
    "#remove numbers\n",
    "def remove_numbers(text):\n",
    "    text = ''.join([i for i in text if not i.isdigit()])\n",
    "    return text\n",
    "\n",
    "#Apply the function\n",
    "df_data['text'] = df_data['text'].apply(remove_numbers)\n",
    "#df_data.head(5)\n"
   ]
  },
  {
   "cell_type": "code",
   "execution_count": 14,
   "metadata": {},
   "outputs": [],
   "source": [
    "#remove html patterns\n",
    "def remove_html_patterns(text):\n",
    "    html_patterns = re.compile('<.*?>')\n",
    "    return html_patterns.sub(r' ',text)\n",
    "\n",
    "#Apply the function\n",
    "df_data['text'] = df_data['text'].apply(remove_html_patterns)"
   ]
  },
  {
   "cell_type": "code",
   "execution_count": 15,
   "metadata": {},
   "outputs": [],
   "source": [
    "#remove url patterns\n",
    "def remove_url_patterns(text):\n",
    "    url_patterns = re.compile(r'https?://\\S+|www\\.\\S+')\n",
    "    return url_patterns.sub(r' ',text)\n",
    "\n",
    "#Apply the function\n",
    "df_data['text'] = df_data['text'].apply(remove_url_patterns)"
   ]
  },
  {
   "cell_type": "code",
   "execution_count": 16,
   "metadata": {},
   "outputs": [
    {
     "data": {
      "text/plain": [
       "'VirginAmerica first fares May three times carriers seats available select'"
      ]
     },
     "execution_count": 16,
     "metadata": {},
     "output_type": "execute_result"
    }
   ],
   "source": [
    "df_data['text'][20]"
   ]
  },
  {
   "cell_type": "markdown",
   "metadata": {},
   "source": [
    "### Modelling\n",
    "The features are the tweets (text column) while the label is the airline sentiment\n",
    "\n",
    "We use the TfidVectorizer from the ScikitLearn library to convert text features into TF-IDF feature vectors i.e. to convert the text into a format that can be used by the model\n",
    "\n",
    "Dividing the data set into training and testing set"
   ]
  },
  {
   "cell_type": "code",
   "execution_count": 17,
   "metadata": {
    "scrolled": true
   },
   "outputs": [],
   "source": [
    "features = df_data['text'].values\n",
    "labels = df_data['airline_sentiment'].values\n",
    "\n",
    "#print(features)\n",
    "#print(labels)"
   ]
  },
  {
   "cell_type": "code",
   "execution_count": 18,
   "metadata": {},
   "outputs": [],
   "source": [
    "vector = TfidfVectorizer()\n",
    "vector.fit(features)\n",
    "features = vector.transform(features)"
   ]
  },
  {
   "cell_type": "code",
   "execution_count": 19,
   "metadata": {},
   "outputs": [],
   "source": [
    "X_train, X_test, y_train, y_test = train_test_split(features, labels, test_size=0.2, random_state=0)"
   ]
  },
  {
   "cell_type": "markdown",
   "metadata": {},
   "source": [
    "### 1. RandomForestClassifier"
   ]
  },
  {
   "cell_type": "code",
   "execution_count": 20,
   "metadata": {},
   "outputs": [
    {
     "data": {
      "text/plain": [
       "RandomForestClassifier()"
      ]
     },
     "execution_count": 20,
     "metadata": {},
     "output_type": "execute_result"
    }
   ],
   "source": [
    "text_classifier = RandomForestClassifier()\n",
    "text_classifier.fit(X_train, y_train)"
   ]
  },
  {
   "cell_type": "code",
   "execution_count": 21,
   "metadata": {},
   "outputs": [],
   "source": [
    "predictions = text_classifier.predict(X_test)"
   ]
  },
  {
   "cell_type": "code",
   "execution_count": 22,
   "metadata": {},
   "outputs": [
    {
     "name": "stdout",
     "output_type": "stream",
     "text": [
      "[[1758   85   27]\n",
      " [ 332  252   30]\n",
      " [ 165   60  219]]\n",
      "model train score 0.9964993169398907\n",
      "model test score 0.7612704918032787\n",
      "accuracy score 0.7612704918032787\n"
     ]
    }
   ],
   "source": [
    "print(confusion_matrix(y_test,predictions))\n",
    "\n",
    "print('model train score', text_classifier.score(X_train, y_train))\n",
    "print('model test score', text_classifier.score(X_test, y_test))\n",
    "print('accuracy score', accuracy_score(y_test, predictions))"
   ]
  },
  {
   "cell_type": "markdown",
   "metadata": {},
   "source": [
    "#### Classification report and confusion matrix"
   ]
  },
  {
   "cell_type": "code",
   "execution_count": 23,
   "metadata": {},
   "outputs": [
    {
     "name": "stdout",
     "output_type": "stream",
     "text": [
      "              precision    recall  f1-score   support\n",
      "\n",
      "    negative       0.78      0.94      0.85      1870\n",
      "     neutral       0.63      0.41      0.50       614\n",
      "    positive       0.79      0.49      0.61       444\n",
      "\n",
      "    accuracy                           0.76      2928\n",
      "   macro avg       0.74      0.61      0.65      2928\n",
      "weighted avg       0.75      0.76      0.74      2928\n",
      "\n"
     ]
    },
    {
     "data": {
      "text/plain": [
       "<AxesSubplot:>"
      ]
     },
     "execution_count": 23,
     "metadata": {},
     "output_type": "execute_result"
    },
    {
     "data": {
      "image/png": "[encoded data removed]",
      "text/plain": [
       "<Figure size 640x480 with 2 Axes>"
      ]
     },
     "metadata": {},
     "output_type": "display_data"
    }
   ],
   "source": [
    "print(classification_report(y_test, predictions))\n",
    "cm = confusion_matrix(y_test,predictions)\n",
    "sn.heatmap(cm,annot=True, cmap='coolwarm', xticklabels=['Negative', 'Nuetral','Positive'], yticklabels=['Negative', 'Nuetral','Positive'])"
   ]
  },
  {
   "cell_type": "markdown",
   "metadata": {},
   "source": [
    "### 2. DecisionTreeClassifier"
   ]
  },
  {
   "cell_type": "code",
   "execution_count": 24,
   "metadata": {},
   "outputs": [
    {
     "data": {
      "text/plain": [
       "DecisionTreeClassifier()"
      ]
     },
     "execution_count": 24,
     "metadata": {},
     "output_type": "execute_result"
    }
   ],
   "source": [
    "#import the algorith for training the model\n",
    "from sklearn.tree import DecisionTreeClassifier\n",
    "\n",
    "#instantiate the model\n",
    "tree =  DecisionTreeClassifier()\n",
    "\n",
    "#fit the train set to the model\n",
    "tree.fit(X_train,y_train)"
   ]
  },
  {
   "cell_type": "code",
   "execution_count": 25,
   "metadata": {},
   "outputs": [
    {
     "data": {
      "text/plain": [
       "array(['negative', 'negative', 'negative', ..., 'negative', 'negative',\n",
       "       'negative'], dtype=object)"
      ]
     },
     "execution_count": 25,
     "metadata": {},
     "output_type": "execute_result"
    }
   ],
   "source": [
    "#predict the testing data\n",
    "tree_predictions = tree.predict(X_test)\n",
    "tree_predictions"
   ]
  },
  {
   "cell_type": "code",
   "execution_count": 26,
   "metadata": {},
   "outputs": [
    {
     "name": "stdout",
     "output_type": "stream",
     "text": [
      "The DecisionTreeClassifier model test score is 0.6868169398907104\n",
      "The DecisionTreeClassifier model train score is 0.9964993169398907\n",
      "The DecisionTreeClassifier model accuracy score is 0.6868169398907104\n"
     ]
    }
   ],
   "source": [
    "#Check the test,train and accuracy score of the model \n",
    "print('The DecisionTreeClassifier model test score is', tree.score(X_test,y_test))\n",
    "print('The DecisionTreeClassifier model train score is', tree.score(X_train,y_train))\n",
    "print('The DecisionTreeClassifier model accuracy score is', accuracy_score(y_test,tree_predictions))"
   ]
  },
  {
   "cell_type": "markdown",
   "metadata": {},
   "source": [
    "### Classification report and confusion matrix"
   ]
  },
  {
   "cell_type": "code",
   "execution_count": 27,
   "metadata": {},
   "outputs": [
    {
     "name": "stdout",
     "output_type": "stream",
     "text": [
      "Classification report               precision    recall  f1-score   support\n",
      "\n",
      "    negative       0.79      0.80      0.79      1870\n",
      "     neutral       0.45      0.46      0.45       614\n",
      "    positive       0.59      0.53      0.56       444\n",
      "\n",
      "    accuracy                           0.69      2928\n",
      "   macro avg       0.61      0.60      0.60      2928\n",
      "weighted avg       0.69      0.69      0.69      2928\n",
      "\n"
     ]
    },
    {
     "data": {
      "text/plain": [
       "<AxesSubplot:>"
      ]
     },
     "execution_count": 27,
     "metadata": {},
     "output_type": "execute_result"
    },
    {
     "data": {
      "image/png": "[encoded data removed]",
      "text/plain": [
       "<Figure size 640x480 with 2 Axes>"
      ]
     },
     "metadata": {},
     "output_type": "display_data"
    }
   ],
   "source": [
    "print('Classification report', classification_report(y_test,tree_predictions))\n",
    "#confusion_matrix\n",
    "cm = confusion_matrix(y_test,tree_predictions)\n",
    "sn.heatmap(cm,annot=True, cmap='coolwarm', xticklabels=['Negative', 'Nuetral','Positive'], yticklabels=['Negative', 'Nuetral','Positive'])"
   ]
  },
  {
   "cell_type": "markdown",
   "metadata": {},
   "source": [
    "### 3.  MultinomialNB"
   ]
  },
  {
   "cell_type": "code",
   "execution_count": 28,
   "metadata": {},
   "outputs": [
    {
     "data": {
      "text/plain": [
       "MultinomialNB()"
      ]
     },
     "execution_count": 28,
     "metadata": {},
     "output_type": "execute_result"
    }
   ],
   "source": [
    "#import the algorith for training the model\n",
    "from sklearn.naive_bayes import MultinomialNB\n",
    "\n",
    "#instantiate the model\n",
    "multinomial = MultinomialNB()\n",
    "\n",
    "#fit the train set to the model\n",
    "multinomial.fit(X_train,y_train)"
   ]
  },
  {
   "cell_type": "code",
   "execution_count": 29,
   "metadata": {},
   "outputs": [
    {
     "data": {
      "text/plain": [
       "array(['negative', 'negative', 'negative', ..., 'negative', 'negative',\n",
       "       'negative'], dtype=object)"
      ]
     },
     "execution_count": 29,
     "metadata": {},
     "output_type": "execute_result"
    }
   ],
   "source": [
    "#predict the testing data\n",
    "multinomial_predictions = tree.predict(X_test)\n",
    "multinomial_predictions"
   ]
  },
  {
   "cell_type": "code",
   "execution_count": 30,
   "metadata": {},
   "outputs": [
    {
     "name": "stdout",
     "output_type": "stream",
     "text": [
      "The MultinomialNB model test score is 0.6861338797814208\n",
      "The MultinomialNB model train score is 0.7246413934426229\n",
      "The MultinomialNB model accuracy score is 0.6868169398907104\n"
     ]
    }
   ],
   "source": [
    "#Check the test,train and accuracy score of the model \n",
    "print('The MultinomialNB model test score is', multinomial.score(X_test,y_test))\n",
    "print('The MultinomialNB model train score is', multinomial.score(X_train,y_train))\n",
    "print('The MultinomialNB model accuracy score is', accuracy_score(y_test,multinomial_predictions))\n"
   ]
  },
  {
   "cell_type": "markdown",
   "metadata": {},
   "source": [
    "### Classification report and confusion matrix"
   ]
  },
  {
   "cell_type": "code",
   "execution_count": 31,
   "metadata": {},
   "outputs": [
    {
     "name": "stdout",
     "output_type": "stream",
     "text": [
      "Classification report               precision    recall  f1-score   support\n",
      "\n",
      "    negative       0.79      0.80      0.79      1870\n",
      "     neutral       0.45      0.46      0.45       614\n",
      "    positive       0.59      0.53      0.56       444\n",
      "\n",
      "    accuracy                           0.69      2928\n",
      "   macro avg       0.61      0.60      0.60      2928\n",
      "weighted avg       0.69      0.69      0.69      2928\n",
      "\n"
     ]
    },
    {
     "data": {
      "text/plain": [
       "<AxesSubplot:>"
      ]
     },
     "execution_count": 31,
     "metadata": {},
     "output_type": "execute_result"
    },
    {
     "data": {
      "image/png": "[encoded data removed]",
      "text/plain": [
       "<Figure size 640x480 with 2 Axes>"
      ]
     },
     "metadata": {},
     "output_type": "display_data"
    }
   ],
   "source": [
    "print('Classification report', classification_report(y_test,multinomial_predictions))\n",
    "\n",
    "#confusion_matrix\n",
    "cm = confusion_matrix(y_test,multinomial_predictions)\n",
    "sn.heatmap(cm,annot=True, cmap='coolwarm', xticklabels=['Negative', 'Nuetral','Positive'], yticklabels=['Negative', 'Nuetral','Positive'])"
   ]
  },
  {
   "cell_type": "markdown",
   "metadata": {},
   "source": [
    "### Testing the models on new data"
   ]
  },
  {
   "cell_type": "code",
   "execution_count": 32,
   "metadata": {},
   "outputs": [
    {
     "name": "stdout",
     "output_type": "stream",
     "text": [
      "this airline sentiment is  positive\n"
     ]
    }
   ],
   "source": [
    "text = \"love service take flight next time\"\n",
    "text = [text]\n",
    "text_int = vector.transform(text)\n",
    "prediction = tree.predict(text_int)\n",
    "print('this airline sentiment is ', prediction[0])"
   ]
  },
  {
   "cell_type": "code",
   "execution_count": 33,
   "metadata": {},
   "outputs": [
    {
     "name": "stdout",
     "output_type": "stream",
     "text": [
      "this airline sentiment is  negative\n"
     ]
    }
   ],
   "source": [
    "text = \"love service take flight next time\"\n",
    "text = [text]\n",
    "text_int = vector.transform(text)\n",
    "prediction = text_classifier.predict(text_int)\n",
    "print('this airline sentiment is ', prediction[0])"
   ]
  },
  {
   "cell_type": "code",
   "execution_count": 34,
   "metadata": {},
   "outputs": [
    {
     "name": "stdout",
     "output_type": "stream",
     "text": [
      "this airline sentiment is  negative\n"
     ]
    }
   ],
   "source": [
    "text = \"love service take flight next time\"\n",
    "text = [text]\n",
    "text_int = vector.transform(text)\n",
    "prediction = multinomial.predict(text_int)\n",
    "print('this airline sentiment is ', prediction[0])"
   ]
  },
  {
   "cell_type": "code",
   "execution_count": 35,
   "metadata": {},
   "outputs": [
    {
     "name": "stdout",
     "output_type": "stream",
     "text": [
      "this airline sentiment is  negative\n"
     ]
    }
   ],
   "source": [
    "text = \"worst airline ever flight been schedules leave since pm now smh\"\n",
    "text = [text]\n",
    "text_int = vector.transform(text)\n",
    "prediction = tree.predict(text_int)\n",
    "print('this airline sentiment is ', prediction[0])"
   ]
  },
  {
   "cell_type": "code",
   "execution_count": 36,
   "metadata": {
    "scrolled": true
   },
   "outputs": [
    {
     "name": "stdout",
     "output_type": "stream",
     "text": [
      "this airline sentiment is  negative\n"
     ]
    }
   ],
   "source": [
    "text = \"worst airline ever flight been schedules leave since pm now smh\"\n",
    "text = [text]\n",
    "text_int = vector.transform(text)\n",
    "prediction = text_classifier.predict(text_int)\n",
    "print('this airline sentiment is ', prediction[0])"
   ]
  },
  {
   "cell_type": "code",
   "execution_count": 37,
   "metadata": {},
   "outputs": [
    {
     "name": "stdout",
     "output_type": "stream",
     "text": [
      "this airline sentiment is  negative\n"
     ]
    }
   ],
   "source": [
    "text = \"worst airline ever flight been schedules leave since pm now smh\"\n",
    "text = [text]\n",
    "text_int = vector.transform(text)\n",
    "prediction = multinomial.predict(text_int)\n",
    "print('this airline sentiment is ', prediction[0])"
   ]
  },
  {
   "cell_type": "markdown",
   "metadata": {},
   "source": [
    "### Comments\n",
    "\n",
    "We have an accuracy score of 76% for the RandomForestClassifier while the DecisionTreeClassifier and the mutinomialNB give an accuracy score of 68%"
   ]
  },
  {
   "cell_type": "markdown",
   "metadata": {},
   "source": [
    "### Attempt to improve the accuracy score of the models\n",
    "Here we try to downsample the negative and neutral sentiments such that the data is balanced amongst the 3 classes"
   ]
  },
  {
   "cell_type": "code",
   "execution_count": 38,
   "metadata": {},
   "outputs": [
    {
     "name": "stdout",
     "output_type": "stream",
     "text": [
      "(2363, 15)\n",
      "(9178, 15)\n",
      "(3099, 15)\n"
     ]
    }
   ],
   "source": [
    "#Create a DataFrame for each sentiment and Get the shape of each sentiment\n",
    "positive_sentiments = df_data[df_data[\"airline_sentiment\"] == \"positive\"]\n",
    "negative_sentiments = df_data[df_data[\"airline_sentiment\"] == \"negative\"]\n",
    "neutral_sentiments  = df_data[df_data[\"airline_sentiment\"] == \"neutral\"]\n",
    "\n",
    "print(positive_sentiments.shape)\n",
    "print(negative_sentiments.shape)\n",
    "print(neutral_sentiments.shape)\n"
   ]
  },
  {
   "cell_type": "code",
   "execution_count": 39,
   "metadata": {},
   "outputs": [
    {
     "name": "stdout",
     "output_type": "stream",
     "text": [
      "(2400, 15)\n"
     ]
    }
   ],
   "source": [
    "#Downsampling the negative sentiment data\n",
    "\n",
    "from sklearn.utils import resample\n",
    "negative_sentiments_downsample = resample(negative_sentiments,\n",
    "             replace=True,\n",
    "             n_samples=2400,\n",
    "             random_state=42)\n",
    "\n",
    "print(negative_sentiments_downsample.shape)\n"
   ]
  },
  {
   "cell_type": "code",
   "execution_count": 40,
   "metadata": {},
   "outputs": [
    {
     "name": "stdout",
     "output_type": "stream",
     "text": [
      "(2400, 15)\n"
     ]
    }
   ],
   "source": [
    "#Downsampling the neutral sentiment data\n",
    "\n",
    "neutral_sentiments_downsample = resample(neutral_sentiments,\n",
    "             replace=True,\n",
    "             n_samples=2400,\n",
    "             random_state=42)\n",
    "\n",
    "print(neutral_sentiments_downsample.shape)"
   ]
  },
  {
   "cell_type": "code",
   "execution_count": 41,
   "metadata": {},
   "outputs": [
    {
     "name": "stdout",
     "output_type": "stream",
     "text": [
      "negative    2400\n",
      "neutral     2400\n",
      "positive    2363\n",
      "Name: airline_sentiment, dtype: int64\n"
     ]
    },
    {
     "data": {
      "text/plain": [
       "<AxesSubplot:ylabel='airline_sentiment'>"
      ]
     },
     "execution_count": 41,
     "metadata": {},
     "output_type": "execute_result"
    },
    {
     "data": {
      "image/png": "[encoded data removed]",
      "text/plain": [
       "<Figure size 800x600 with 1 Axes>"
      ]
     },
     "metadata": {},
     "output_type": "display_data"
    }
   ],
   "source": [
    "#Creating the new Dataframe with the downsampled sentiments\n",
    "#Plotting a pie chat to show the balanced data distribution\n",
    "\n",
    "data_downsampled = pd.concat([negative_sentiments_downsample,positive_sentiments,neutral_sentiments_downsample])\n",
    "print(data_downsampled[\"airline_sentiment\"].value_counts())\n",
    "\n",
    "fig = plt.figure(figsize =(8, 6))\n",
    "data_downsampled.airline_sentiment.value_counts().plot(kind='pie', autopct='%1.0f%%')\n"
   ]
  },
  {
   "cell_type": "code",
   "execution_count": 42,
   "metadata": {
    "scrolled": true
   },
   "outputs": [],
   "source": [
    "#Dividing the new data into features and labels\n",
    "\n",
    "new_features = data_downsampled['text'].values\n",
    "new_labels = data_downsampled['airline_sentiment'].values\n",
    "\n",
    "#print(new_features)\n",
    "#print(new_labels)"
   ]
  },
  {
   "cell_type": "code",
   "execution_count": 43,
   "metadata": {},
   "outputs": [],
   "source": [
    "#Vectorizing the features\n",
    "\n",
    "vector.fit(new_features)\n",
    "new_features = vector.transform(new_features)"
   ]
  },
  {
   "cell_type": "code",
   "execution_count": 44,
   "metadata": {},
   "outputs": [],
   "source": [
    "X_train_new, X_test_new, y_train_new, y_test_new = train_test_split(new_features, new_labels, test_size=0.2, random_state=0)"
   ]
  },
  {
   "cell_type": "code",
   "execution_count": 45,
   "metadata": {},
   "outputs": [
    {
     "data": {
      "text/plain": [
       "RandomForestClassifier()"
      ]
     },
     "execution_count": 45,
     "metadata": {},
     "output_type": "execute_result"
    }
   ],
   "source": [
    "text_classifier.fit(X_train_new, y_train_new)"
   ]
  },
  {
   "cell_type": "code",
   "execution_count": 46,
   "metadata": {},
   "outputs": [],
   "source": [
    "new_rand_class_pred = text_classifier.predict(X_test_new)"
   ]
  },
  {
   "cell_type": "code",
   "execution_count": 47,
   "metadata": {},
   "outputs": [
    {
     "name": "stdout",
     "output_type": "stream",
     "text": [
      "[[356  83  24]\n",
      " [ 66 389  35]\n",
      " [ 47  78 355]]\n",
      "model train score 0.9970331588132635\n",
      "model test score 0.7676203768318214\n",
      "accuracy score 0.7676203768318214\n",
      "Classification report               precision    recall  f1-score   support\n",
      "\n",
      "    negative       0.76      0.77      0.76       463\n",
      "     neutral       0.71      0.79      0.75       490\n",
      "    positive       0.86      0.74      0.79       480\n",
      "\n",
      "    accuracy                           0.77      1433\n",
      "   macro avg       0.77      0.77      0.77      1433\n",
      "weighted avg       0.77      0.77      0.77      1433\n",
      "\n"
     ]
    },
    {
     "data": {
      "text/plain": [
       "<AxesSubplot:>"
      ]
     },
     "execution_count": 47,
     "metadata": {},
     "output_type": "execute_result"
    },
    {
     "data": {
      "image/png": "[encoded data removed]",
      "text/plain": [
       "<Figure size 640x480 with 2 Axes>"
      ]
     },
     "metadata": {},
     "output_type": "display_data"
    }
   ],
   "source": [
    "print(confusion_matrix(y_test_new,new_rand_class_pred))\n",
    "\n",
    "print('model train score', text_classifier.score(X_train_new, y_train_new))\n",
    "print('model test score', text_classifier.score(X_test_new, y_test_new))\n",
    "print('accuracy score', accuracy_score(y_test_new, new_rand_class_pred))\n",
    "print('Classification report', classification_report(y_test_new, new_rand_class_pred))\n",
    "#confusion_matrix\n",
    "cm = confusion_matrix(y_test_new, new_rand_class_pred)\n",
    "sn.heatmap(cm,annot=True, cmap='coolwarm', xticklabels=['Negative', 'Nuetral','Positive'], yticklabels=['Negative', 'Nuetral','Positive'])"
   ]
  },
  {
   "cell_type": "code",
   "execution_count": 48,
   "metadata": {},
   "outputs": [
    {
     "data": {
      "text/plain": [
       "DecisionTreeClassifier()"
      ]
     },
     "execution_count": 48,
     "metadata": {},
     "output_type": "execute_result"
    }
   ],
   "source": [
    "tree.fit(X_train_new, y_train_new)"
   ]
  },
  {
   "cell_type": "code",
   "execution_count": 49,
   "metadata": {},
   "outputs": [
    {
     "name": "stdout",
     "output_type": "stream",
     "text": [
      "[[331  79  53]\n",
      " [ 75 363  52]\n",
      " [ 65  93 322]]\n",
      "model train score 0.9970331588132635\n",
      "model test score 0.7090020935101187\n",
      "accuracy score 0.7090020935101187\n",
      "Classification report               precision    recall  f1-score   support\n",
      "\n",
      "    negative       0.70      0.71      0.71       463\n",
      "     neutral       0.68      0.74      0.71       490\n",
      "    positive       0.75      0.67      0.71       480\n",
      "\n",
      "    accuracy                           0.71      1433\n",
      "   macro avg       0.71      0.71      0.71      1433\n",
      "weighted avg       0.71      0.71      0.71      1433\n",
      "\n"
     ]
    },
    {
     "data": {
      "text/plain": [
       "<AxesSubplot:>"
      ]
     },
     "execution_count": 49,
     "metadata": {},
     "output_type": "execute_result"
    },
    {
     "data": {
      "image/png": "[encoded data removed]",
      "text/plain": [
       "<Figure size 640x480 with 2 Axes>"
      ]
     },
     "metadata": {},
     "output_type": "display_data"
    }
   ],
   "source": [
    "new_tree_pred = tree.predict(X_test_new)\n",
    "print(confusion_matrix(y_test_new,new_tree_pred))\n",
    "\n",
    "print('model train score', tree.score(X_train_new, y_train_new))\n",
    "print('model test score', tree.score(X_test_new, y_test_new))\n",
    "print('accuracy score', accuracy_score(y_test_new, new_tree_pred))\n",
    "print('Classification report', classification_report(y_test_new, new_tree_pred))\n",
    "#confusion_matrix\n",
    "cm = confusion_matrix(y_test_new, new_tree_pred)\n",
    "sn.heatmap(cm,annot=True, cmap='coolwarm', xticklabels=['Negative', 'Nuetral','Positive'], yticklabels=['Negative', 'Nuetral','Positive'])"
   ]
  },
  {
   "cell_type": "code",
   "execution_count": 50,
   "metadata": {},
   "outputs": [
    {
     "data": {
      "text/plain": [
       "MultinomialNB()"
      ]
     },
     "execution_count": 50,
     "metadata": {},
     "output_type": "execute_result"
    }
   ],
   "source": [
    "multinomial.fit(X_train_new, y_train_new)"
   ]
  },
  {
   "cell_type": "code",
   "execution_count": 51,
   "metadata": {},
   "outputs": [
    {
     "name": "stdout",
     "output_type": "stream",
     "text": [
      "[[405  39  19]\n",
      " [105 320  65]\n",
      " [ 46  57 377]]\n",
      "model train score 0.8945898778359511\n",
      "model test score 0.7690160502442428\n",
      "accuracy score 0.7690160502442428\n",
      "Classification report               precision    recall  f1-score   support\n",
      "\n",
      "    negative       0.73      0.87      0.79       463\n",
      "     neutral       0.77      0.65      0.71       490\n",
      "    positive       0.82      0.79      0.80       480\n",
      "\n",
      "    accuracy                           0.77      1433\n",
      "   macro avg       0.77      0.77      0.77      1433\n",
      "weighted avg       0.77      0.77      0.77      1433\n",
      "\n"
     ]
    },
    {
     "data": {
      "text/plain": [
       "<AxesSubplot:>"
      ]
     },
     "execution_count": 51,
     "metadata": {},
     "output_type": "execute_result"
    },
    {
     "data": {
      "image/png": "[encoded data removed]",
      "text/plain": [
       "<Figure size 640x480 with 2 Axes>"
      ]
     },
     "metadata": {},
     "output_type": "display_data"
    }
   ],
   "source": [
    "new_multinomial_pred = multinomial.predict(X_test_new)\n",
    "print(confusion_matrix(y_test_new,new_multinomial_pred))\n",
    "\n",
    "print('model train score', multinomial.score(X_train_new, y_train_new))\n",
    "print('model test score', multinomial.score(X_test_new, y_test_new))\n",
    "print('accuracy score', accuracy_score(y_test_new, new_multinomial_pred))\n",
    "print('Classification report', classification_report(y_test_new, new_multinomial_pred))\n",
    "#confusion_matrix\n",
    "cm = confusion_matrix(y_test_new, new_multinomial_pred)\n",
    "sn.heatmap(cm,annot=True, cmap='coolwarm', xticklabels=['Negative', 'Nuetral','Positive'], yticklabels=['Negative', 'Nuetral','Positive'])"
   ]
  },
  {
   "cell_type": "code",
   "execution_count": 52,
   "metadata": {},
   "outputs": [
    {
     "name": "stdout",
     "output_type": "stream",
     "text": [
      "this airline sentiment is  positive\n"
     ]
    }
   ],
   "source": [
    "text = \"love service take flight next time\"\n",
    "text = [text]\n",
    "text_int = vector.transform(text)\n",
    "prediction = text_classifier.predict(text_int)\n",
    "print('this airline sentiment is ', prediction[0])"
   ]
  },
  {
   "cell_type": "code",
   "execution_count": 53,
   "metadata": {},
   "outputs": [
    {
     "name": "stdout",
     "output_type": "stream",
     "text": [
      "this airline sentiment is  positive\n"
     ]
    }
   ],
   "source": [
    "text = \"love service take flight next time\"\n",
    "text = [text]\n",
    "text_int = vector.transform(text)\n",
    "prediction = tree.predict(text_int)\n",
    "print('this airline sentiment is ', prediction[0])"
   ]
  },
  {
   "cell_type": "code",
   "execution_count": 54,
   "metadata": {},
   "outputs": [
    {
     "name": "stdout",
     "output_type": "stream",
     "text": [
      "this airline sentiment is  positive\n"
     ]
    }
   ],
   "source": [
    "text = \"love service take flight next time\"\n",
    "text = [text]\n",
    "text_int = vector.transform(text)\n",
    "prediction = multinomial.predict(text_int)\n",
    "print('this airline sentiment is ', prediction[0])"
   ]
  },
  {
   "cell_type": "code",
   "execution_count": 55,
   "metadata": {},
   "outputs": [
    {
     "name": "stdout",
     "output_type": "stream",
     "text": [
      "this airline sentiment is  negative\n"
     ]
    }
   ],
   "source": [
    "text = \"worst airline ever flight been schedules leave since pm now smh\"\n",
    "text = [text]\n",
    "text_int = vector.transform(text)\n",
    "prediction = text_classifier.predict(text_int)\n",
    "print('this airline sentiment is ', prediction[0])"
   ]
  },
  {
   "cell_type": "code",
   "execution_count": 56,
   "metadata": {},
   "outputs": [
    {
     "name": "stdout",
     "output_type": "stream",
     "text": [
      "this airline sentiment is  negative\n"
     ]
    }
   ],
   "source": [
    "text = \"worst airline ever flight been schedules leave since pm now smh\"\n",
    "text = [text]\n",
    "text_int = vector.transform(text)\n",
    "prediction = tree.predict(text_int)\n",
    "print('this airline sentiment is ', prediction[0])"
   ]
  },
  {
   "cell_type": "code",
   "execution_count": 57,
   "metadata": {},
   "outputs": [
    {
     "name": "stdout",
     "output_type": "stream",
     "text": [
      "this airline sentiment is  negative\n"
     ]
    }
   ],
   "source": [
    "text = \"worst airline ever flight been schedules leave since pm now smh\"\n",
    "text = [text]\n",
    "text_int = vector.transform(text)\n",
    "prediction = multinomial.predict(text_int)\n",
    "print('this airline sentiment is ', prediction[0])"
   ]
  },
  {
   "cell_type": "markdown",
   "metadata": {},
   "source": [
    "### Conclusion\n",
    "1. We used the airline sentiments data to predict twitter sentiments\n",
    "\n",
    "2. We built 3 models, namel, RandomForestClassifier, DecisionTree and multinomialNB\n",
    "\n",
    "3. The RandomForestClassifier has a better score compared to the other models\n",
    "\n",
    "4. We also downsampled the negative and neutral sentiments such that the sentiments were distributed equally amongst the three classes\n",
    "\n",
    "5. We observed that the models' accuracy scores are improved by feeding a balanced dataset to the models\n"
   ]
  }
 ],
 "metadata": {
  "kernelspec": {
   "display_name": "Python 3",
   "language": "python",
   "name": "python3"
  },
  "language_info": {
   "codemirror_mode": {
    "name": "ipython",
    "version": 3
   },
   "file_extension": ".py",
   "mimetype": "text/x-python",
   "name": "python",
   "nbconvert_exporter": "python",
   "pygments_lexer": "ipython3",
   "version": "3.7.14"
  }
 },
 "nbformat": 4,
 "nbformat_minor": 2
}
